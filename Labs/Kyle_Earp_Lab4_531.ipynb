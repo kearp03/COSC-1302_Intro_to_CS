{
 "cells": [
  {
   "cell_type": "code",
   "execution_count": 3,
   "id": "887b27af",
   "metadata": {},
   "outputs": [
    {
     "name": "stdout",
     "output_type": "stream",
     "text": [
      "True\n"
     ]
    }
   ],
   "source": [
    "#Problem 1\n",
    "print(5 > 4)"
   ]
  },
  {
   "cell_type": "code",
   "execution_count": 11,
   "id": "d724d188",
   "metadata": {},
   "outputs": [
    {
     "name": "stdout",
     "output_type": "stream",
     "text": [
      "True\n"
     ]
    }
   ],
   "source": [
    "#Problem 2\n",
    "x = 7\n",
    "print(x <= 12)"
   ]
  },
  {
   "cell_type": "code",
   "execution_count": 29,
   "id": "d1635659",
   "metadata": {},
   "outputs": [
    {
     "name": "stdout",
     "output_type": "stream",
     "text": [
      "Please enter a number: -4\n",
      "False\n"
     ]
    }
   ],
   "source": [
    "#Problem 3\n",
    "num = float(input(\"Please enter a number: \"))\n",
    "print(num == 7)"
   ]
  },
  {
   "cell_type": "code",
   "execution_count": 6,
   "id": "54333cce",
   "metadata": {
    "scrolled": true
   },
   "outputs": [
    {
     "name": "stdout",
     "output_type": "stream",
     "text": [
      "Pineapple\n"
     ]
    }
   ],
   "source": [
    "#Problem 4\n",
    "if(7 > 2.3):\n",
    "    print(\"Pineapple\")"
   ]
  },
  {
   "cell_type": "code",
   "execution_count": 27,
   "id": "f15a252b",
   "metadata": {},
   "outputs": [
    {
     "name": "stdout",
     "output_type": "stream",
     "text": [
      "Please enter a number: 20\n",
      "Banana\n"
     ]
    }
   ],
   "source": [
    "#Problem 5\n",
    "num = float(input(\"Please enter a number: \"))\n",
    "if(num > 20):\n",
    "    print(\"Orange\")\n",
    "else:\n",
    "    print(\"Banana\")"
   ]
  },
  {
   "cell_type": "code",
   "execution_count": 1,
   "id": "1a8456e2",
   "metadata": {},
   "outputs": [
    {
     "name": "stdout",
     "output_type": "stream",
     "text": [
      "Please enter a number: 6\n",
      "Scuba\n",
      "Scuba\n"
     ]
    }
   ],
   "source": [
    "#Problem 6\n",
    "num = float(input(\"Please enter a number: \"))\n",
    "if(num > 5 and num < 12):\n",
    "    print(\"Scuba\")\n",
    "#or    \n",
    "if(5 < num < 12):\n",
    "    print(\"Scuba\")"
   ]
  },
  {
   "cell_type": "code",
   "execution_count": null,
   "id": "4972f311",
   "metadata": {},
   "outputs": [],
   "source": []
  }
 ],
 "metadata": {
  "kernelspec": {
   "display_name": "Python 3",
   "language": "python",
   "name": "python3"
  },
  "language_info": {
   "codemirror_mode": {
    "name": "ipython",
    "version": 3
   },
   "file_extension": ".py",
   "mimetype": "text/x-python",
   "name": "python",
   "nbconvert_exporter": "python",
   "pygments_lexer": "ipython3",
   "version": "3.8.8"
  }
 },
 "nbformat": 4,
 "nbformat_minor": 5
}
