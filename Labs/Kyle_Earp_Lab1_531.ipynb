{
 "cells": [
  {
   "cell_type": "code",
   "execution_count": 1,
   "id": "429a8a28",
   "metadata": {},
   "outputs": [
    {
     "name": "stdout",
     "output_type": "stream",
     "text": [
      "3\n"
     ]
    }
   ],
   "source": [
    "#Problem 1\n",
    "print(1 + 2)"
   ]
  },
  {
   "cell_type": "code",
   "execution_count": 2,
   "id": "a531cfc2",
   "metadata": {},
   "outputs": [
    {
     "name": "stdout",
     "output_type": "stream",
     "text": [
      "Kyle Earp\n"
     ]
    }
   ],
   "source": [
    "#Problem 2\n",
    "print(\"Kyle Earp\")"
   ]
  },
  {
   "cell_type": "code",
   "execution_count": 3,
   "id": "ae4f0d58",
   "metadata": {},
   "outputs": [
    {
     "name": "stdout",
     "output_type": "stream",
     "text": [
      "27\n"
     ]
    }
   ],
   "source": [
    "#Problem 3\n",
    "print(12 + 3 * 5)"
   ]
  },
  {
   "cell_type": "code",
   "execution_count": 4,
   "id": "18c23ca9",
   "metadata": {},
   "outputs": [
    {
     "name": "stdout",
     "output_type": "stream",
     "text": [
      "75\n"
     ]
    }
   ],
   "source": [
    "#Problem 4\n",
    "print((12 + 3) * 5)"
   ]
  },
  {
   "cell_type": "code",
   "execution_count": 5,
   "id": "cbe0e7a1",
   "metadata": {},
   "outputs": [
    {
     "name": "stdout",
     "output_type": "stream",
     "text": [
      "125\n"
     ]
    }
   ],
   "source": [
    "#Problem 5\n",
    "print(5 ** 3)"
   ]
  },
  {
   "cell_type": "code",
   "execution_count": 6,
   "id": "cb95c7ba",
   "metadata": {},
   "outputs": [
    {
     "name": "stdout",
     "output_type": "stream",
     "text": [
      "1.88\n"
     ]
    }
   ],
   "source": [
    "#Problem 6\n",
    "print(0.65 + 1.23)"
   ]
  },
  {
   "cell_type": "code",
   "execution_count": 11,
   "id": "dffab570",
   "metadata": {},
   "outputs": [
    {
     "ename": "SyntaxError",
     "evalue": "invalid syntax (<ipython-input-11-64c50185f425>, line 14)",
     "output_type": "error",
     "traceback": [
      "\u001b[0;36m  File \u001b[0;32m\"<ipython-input-11-64c50185f425>\"\u001b[0;36m, line \u001b[0;32m14\u001b[0m\n\u001b[0;31m    print\"5+3*2\"\u001b[0m\n\u001b[0m         ^\u001b[0m\n\u001b[0;31mSyntaxError\u001b[0m\u001b[0;31m:\u001b[0m invalid syntax\n"
     ]
    }
   ],
   "source": [
    "#Problem 7\n",
    "print(\"5 + 3 * 2\")\n",
    "\n",
    "#A - This code does not run, gives \"SyntaxError: EOL while scanning string literal\" error\n",
    "#print(\"5 + 3 * 2) - this is commented out to avoid errors while testing\n",
    "\n",
    "#B - Prints the result of the mathematical expression instead of printing the numbers and opperations to the screen\n",
    "print(5 + 3 * 2)\n",
    "\n",
    "#C - gives \"SyntaxError: unexpected EOF while parsing\" error\n",
    "#print(\"5 + 3 * 2\" - this is commented out to avoid errors while testing\n",
    "\n",
    "#D - gives \"SyntaxError: invalid syntax\" error\n",
    "#print\"5+3*2\" - this is commented out to avoid errors while testing"
   ]
  },
  {
   "cell_type": "code",
   "execution_count": 12,
   "id": "f8e80d70",
   "metadata": {},
   "outputs": [
    {
     "name": "stdout",
     "output_type": "stream",
     "text": [
      "4\n"
     ]
    }
   ],
   "source": [
    "#Problem 8\n",
    "print(2 - -2)"
   ]
  },
  {
   "cell_type": "code",
   "execution_count": 14,
   "id": "907de4e3",
   "metadata": {},
   "outputs": [
    {
     "name": "stdout",
     "output_type": "stream",
     "text": [
      "4\n"
     ]
    }
   ],
   "source": [
    "#Problem 9\n",
    "print(2 + + 2)\n",
    "#This code does work"
   ]
  },
  {
   "cell_type": "code",
   "execution_count": 25,
   "id": "43c90a56",
   "metadata": {},
   "outputs": [
    {
     "name": "stdout",
     "output_type": "stream",
     "text": [
      "There are 60 seconds in 1 minute.\n",
      "There are 1800 seconds in 30 minutes.\n",
      "There are 1830 seconds in 30 minutes and 30 seconds.\n",
      "There are 3600 seconds in 1 hour.\n",
      "There are 5430 seconds in 1 hour 30 minutes and 30 seconds.\n",
      "There are 3.1069999999999998 miles in 5 kilometers.\n"
     ]
    }
   ],
   "source": [
    "#Problem 10\n",
    "sec = 60\n",
    "\n",
    "#A\n",
    "print(\"There are \" + str(sec * 1) + \" seconds in 1 minute.\")\n",
    "\n",
    "#B\n",
    "print(\"There are \" + str(sec * 30) + \" seconds in 30 minutes.\")\n",
    "\n",
    "#C\n",
    "print(\"There are \" + str(sec * 30 + 30) + \" seconds in 30 minutes and 30 seconds.\")\n",
    "\n",
    "#D\n",
    "print(\"There are \" + str(sec * 60) + \" seconds in 1 hour.\")\n",
    "\n",
    "#E\n",
    "print(\"There are \" + str(sec * 90 + 30) + \" seconds in 1 hour 30 minutes and 30 seconds.\")\n",
    "\n",
    "#F\n",
    "print(\"There are \" + str(0.6214 * 5) + \" miles in 5 kilometers.\")"
   ]
  },
  {
   "cell_type": "code",
   "execution_count": null,
   "id": "11d078d1",
   "metadata": {},
   "outputs": [],
   "source": []
  }
 ],
 "metadata": {
  "kernelspec": {
   "display_name": "Python 3",
   "language": "python",
   "name": "python3"
  },
  "language_info": {
   "codemirror_mode": {
    "name": "ipython",
    "version": 3
   },
   "file_extension": ".py",
   "mimetype": "text/x-python",
   "name": "python",
   "nbconvert_exporter": "python",
   "pygments_lexer": "ipython3",
   "version": "3.8.8"
  }
 },
 "nbformat": 4,
 "nbformat_minor": 5
}
