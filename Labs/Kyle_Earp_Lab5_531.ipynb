{
 "cells": [
  {
   "cell_type": "code",
   "execution_count": 1,
   "id": "dbb8a055",
   "metadata": {},
   "outputs": [
    {
     "name": "stdout",
     "output_type": "stream",
     "text": [
      "How old are you? 19\n",
      "Happy Birthday!\n",
      "banana\n"
     ]
    }
   ],
   "source": [
    "#Problem 1\n",
    "age = int(input(\"How old are you? \"))\n",
    "print(\"Happy Birthday!\")\n",
    "\n",
    "if(age >= 30):\n",
    "    print(\"orange\")\n",
    "    \n",
    "elif(age >= 20):\n",
    "    print(\"strawberry\")\n",
    "    \n",
    "else:\n",
    "    print(\"banana\")"
   ]
  },
  {
   "cell_type": "code",
   "execution_count": 24,
   "id": "80867dfb",
   "metadata": {},
   "outputs": [
    {
     "name": "stdout",
     "output_type": "stream",
     "text": [
      "Enter your most recent Exam grade: 0\n",
      "You got an F.\n"
     ]
    }
   ],
   "source": [
    "# Problem 2\n",
    "grade = float(input(\"Enter your most recent Exam grade: \"))\n",
    "\n",
    "if(grade >= 90):\n",
    "    print(\"You got an A.\")\n",
    "    \n",
    "elif(grade >= 80):\n",
    "    print(\"You got a B.\")\n",
    "    \n",
    "elif(grade >= 70):\n",
    "    print(\"You got a C.\")\n",
    "    \n",
    "elif(grade >= 60):\n",
    "    print(\"You got a D.\")\n",
    "    \n",
    "else:\n",
    "    print(\"You got an F.\")"
   ]
  },
  {
   "cell_type": "code",
   "execution_count": 21,
   "id": "f9677f6a",
   "metadata": {},
   "outputs": [
    {
     "name": "stdout",
     "output_type": "stream",
     "text": [
      "Enter your username: john\n",
      "Enter your password: blueberry\n",
      "Your password is correct.\n"
     ]
    }
   ],
   "source": [
    "#Problem 3\n",
    "username = input(\"Enter your username: \")\n",
    "password = input(\"Enter your password: \")\n",
    "\n",
    "if((username == \"john\" and password == \"blueberry\") or (username == \"lisa\" and password == \"orange\")):\n",
    "    print(\"Your password is correct.\")\n",
    "\n",
    "else:\n",
    "    print(\"Your password is incorrect.\")"
   ]
  },
  {
   "cell_type": "code",
   "execution_count": 23,
   "id": "5129e91d",
   "metadata": {},
   "outputs": [
    {
     "name": "stdout",
     "output_type": "stream",
     "text": [
      "Enter A: 0\n",
      "Enter B: 4\n",
      "What operation (add, sub, mul, or div) would you like to perform? div\n",
      "0.0 / 4.0 = 0.0\n"
     ]
    }
   ],
   "source": [
    "#Problem 4\n",
    "a = float(input(\"Enter A: \"))\n",
    "b = float(input(\"Enter B: \"))\n",
    "opperation = input(\"What operation (add, sub, mul, or div) would you like to perform? \")\n",
    "\n",
    "if(opperation == \"add\"):\n",
    "    print(str(a) + \" + \" + str(b) + \" = \" + str(a + b))\n",
    "\n",
    "elif(opperation == \"sub\"):\n",
    "    print(str(a) + \" - \" + str(b) + \" = \" + str(a - b))\n",
    "    \n",
    "elif(opperation == \"mul\"):\n",
    "    print(str(a) + \" * \" + str(b) + \" = \" + str(a * b))\n",
    "    \n",
    "elif(opperation == \"div\"):\n",
    "    print(str(a) + \" / \" + str(b) + \" = \" + str(a / b))"
   ]
  }
 ],
 "metadata": {
  "kernelspec": {
   "display_name": "Python 3",
   "language": "python",
   "name": "python3"
  },
  "language_info": {
   "codemirror_mode": {
    "name": "ipython",
    "version": 3
   },
   "file_extension": ".py",
   "mimetype": "text/x-python",
   "name": "python",
   "nbconvert_exporter": "python",
   "pygments_lexer": "ipython3",
   "version": "3.8.8"
  }
 },
 "nbformat": 4,
 "nbformat_minor": 5
}
