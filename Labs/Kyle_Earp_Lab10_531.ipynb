{
 "cells": [
  {
   "cell_type": "code",
   "execution_count": null,
   "id": "c03e136b",
   "metadata": {},
   "outputs": [],
   "source": [
    "#Problem 1\n",
    "menu = [\"cheese\", \"pepperoni\", \"hamburger\", \"hawaiian\"]\n",
    "deliveryOrders = []\n",
    "print(\"Welcome to Unique Store Name's Pizza Delivery\")\n",
    "print(\"Here's our menu:\")\n",
    "print(menu)\n",
    "\n",
    "while(True):\n",
    "    print()\n",
    "    \n",
    "    name = input(\"Enter your name: \")\n",
    "    address = input(\"Enter your address: \")\n",
    "    order = input(\"Enter the pizza that you want: \")\n",
    "    \n",
    "    if(order in menu):\n",
    "        print(\"We'll have that to you as soon as possible!\")\n",
    "        deliveryOrders.append({\"name\": name, \"address\": address, \"pizza\": order})\n",
    "        print(deliveryOrders)\n",
    "        \n",
    "    else:\n",
    "        print(\"Be gone! We don't serve that here!\")\n",
    "        \n",
    "    print()\n",
    "    stop = input((\"Stop (yes/no)? \")).lower()\n",
    "    \n",
    "    if(stop == \"yes\"):\n",
    "        break\n",
    "\n",
    "print()\n",
    "print(\"Our orders for tonight: \")\n",
    "print(deliveryOrders)"
   ]
  }
 ],
 "metadata": {
  "kernelspec": {
   "display_name": "Python 3",
   "language": "python",
   "name": "python3"
  },
  "language_info": {
   "codemirror_mode": {
    "name": "ipython",
    "version": 3
   },
   "file_extension": ".py",
   "mimetype": "text/x-python",
   "name": "python",
   "nbconvert_exporter": "python",
   "pygments_lexer": "ipython3",
   "version": "3.8.8"
  }
 },
 "nbformat": 4,
 "nbformat_minor": 5
}
