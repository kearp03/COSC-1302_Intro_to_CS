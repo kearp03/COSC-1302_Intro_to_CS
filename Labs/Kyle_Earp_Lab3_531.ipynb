{
 "cells": [
  {
   "cell_type": "code",
   "execution_count": 1,
   "id": "cfb2a30b",
   "metadata": {},
   "outputs": [
    {
     "name": "stdout",
     "output_type": "stream",
     "text": [
      "What is your favorite number5.4\n",
      "6.4\n"
     ]
    }
   ],
   "source": [
    "#Problem 1\n",
    "favNum = float(input(\"What is your favorite number? \"))\n",
    "print(favNum + 1)"
   ]
  },
  {
   "cell_type": "code",
   "execution_count": 1,
   "id": "6714f3bc",
   "metadata": {},
   "outputs": [
    {
     "name": "stdout",
     "output_type": "stream",
     "text": [
      "Kyle Earp is 18 years old.\n"
     ]
    }
   ],
   "source": [
    "#Problem 2\n",
    "name = \"Kyle Earp\"\n",
    "age = 18\n",
    "print(name + \" is \" + str(age) + \" years old.\")"
   ]
  },
  {
   "cell_type": "code",
   "execution_count": 11,
   "id": "189cbd5d",
   "metadata": {},
   "outputs": [
    {
     "name": "stdout",
     "output_type": "stream",
     "text": [
      "How many miles have you travelled? 5.2\n",
      "You have travelled 8.3668 kilometers.\n"
     ]
    }
   ],
   "source": [
    "#Problem 3\n",
    "milesTravelled = float(input(\"How many miles have you travelled? \"))\n",
    "kmTravelled = milesTravelled * 1.609\n",
    "print(\"You have travelled\",str(kmTravelled),\"kilometers.\")"
   ]
  },
  {
   "cell_type": "code",
   "execution_count": 13,
   "id": "4fc055f6",
   "metadata": {},
   "outputs": [
    {
     "name": "stdout",
     "output_type": "stream",
     "text": [
      "Value of A: 3\n",
      "Value of B: 4\n",
      "The value of C is: 5.0\n"
     ]
    }
   ],
   "source": [
    "#Problem 4\n",
    "a = float(input(\"Value of A: \"))\n",
    "b = float(input(\"Value of B: \"))\n",
    "c = (a ** 2 + b ** 2) ** 0.5\n",
    "print(\"The value of C is:\",str(c))"
   ]
  },
  {
   "cell_type": "code",
   "execution_count": null,
   "id": "7aee390e",
   "metadata": {},
   "outputs": [],
   "source": []
  }
 ],
 "metadata": {
  "kernelspec": {
   "display_name": "Python 3",
   "language": "python",
   "name": "python3"
  },
  "language_info": {
   "codemirror_mode": {
    "name": "ipython",
    "version": 3
   },
   "file_extension": ".py",
   "mimetype": "text/x-python",
   "name": "python",
   "nbconvert_exporter": "python",
   "pygments_lexer": "ipython3",
   "version": "3.8.8"
  }
 },
 "nbformat": 4,
 "nbformat_minor": 5
}
