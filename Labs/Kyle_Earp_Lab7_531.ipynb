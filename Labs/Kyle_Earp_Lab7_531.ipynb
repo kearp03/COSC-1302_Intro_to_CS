{
 "cells": [
  {
   "cell_type": "code",
   "execution_count": null,
   "id": "0bebc182",
   "metadata": {},
   "outputs": [],
   "source": [
    "#Problem 1\n",
    "def quote():\n",
    "    print(\"\\\"You get nothing! You lose! Good day sir!\\\"\")\n",
    "\n",
    "#******* MAIN *******#\n",
    "quote()"
   ]
  },
  {
   "cell_type": "code",
   "execution_count": null,
   "id": "592c477e",
   "metadata": {},
   "outputs": [],
   "source": [
    "#Problem 2\n",
    "def favoriteNumber():\n",
    "    return 7\n",
    "\n",
    "#******* MAIN *******#\n",
    "num = favoriteNumber() + 12\n",
    "print(num)"
   ]
  },
  {
   "cell_type": "code",
   "execution_count": null,
   "id": "337c41ba",
   "metadata": {},
   "outputs": [],
   "source": [
    "#Problem 3\n",
    "def happyBirthday(name):\n",
    "    print(\"Happy Birthday \" + name + \"!\")\n",
    "    \n",
    "#******* MAIN *******# \n",
    "name = input(\"What is your name? \")\n",
    "happyBirthday(name)"
   ]
  },
  {
   "cell_type": "code",
   "execution_count": null,
   "id": "a6d10ce6",
   "metadata": {},
   "outputs": [],
   "source": [
    "#Problem 4\n",
    "def nameRepeat(name, x):\n",
    "    for i in range(x):\n",
    "        print(name)\n",
    "\n",
    "#******* MAIN *******#\n",
    "name = input(\"Enter your name: \")\n",
    "num = int(input(\"Enter a number: \"))\n",
    "nameRepeat(name, num)"
   ]
  },
  {
   "cell_type": "code",
   "execution_count": null,
   "id": "9f43c1cf",
   "metadata": {},
   "outputs": [],
   "source": [
    "#Problem 5\n",
    "def circeArea(r):\n",
    "    return (r ** 2) * 3.141592653\n",
    "\n",
    "#******* MAIN *******#\n",
    "radius = float(input(\"Enter a circle's radius: \"))\n",
    "print(\"Area = \" + str(circeArea(radius)))"
   ]
  }
 ],
 "metadata": {
  "kernelspec": {
   "display_name": "Python 3",
   "language": "python",
   "name": "python3"
  },
  "language_info": {
   "codemirror_mode": {
    "name": "ipython",
    "version": 3
   },
   "file_extension": ".py",
   "mimetype": "text/x-python",
   "name": "python",
   "nbconvert_exporter": "python",
   "pygments_lexer": "ipython3",
   "version": "3.8.8"
  }
 },
 "nbformat": 4,
 "nbformat_minor": 5
}
