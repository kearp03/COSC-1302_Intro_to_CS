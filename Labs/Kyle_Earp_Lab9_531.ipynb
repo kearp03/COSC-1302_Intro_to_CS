{
 "cells": [
  {
   "cell_type": "code",
   "execution_count": 3,
   "id": "2cc5abdf",
   "metadata": {},
   "outputs": [
    {
     "name": "stdout",
     "output_type": "stream",
     "text": [
      "Robbie\n",
      "\n",
      "5\n",
      "\n",
      "Robbie\n",
      "Hattie\n",
      "Owen\n",
      "Kaylie\n",
      "Sutton\n"
     ]
    }
   ],
   "source": [
    "#Problem 1\n",
    "names = [\"Robbie\", \"Hattie\", \"Kyle\", \"Kaylie\"]\n",
    "print(names[0])\n",
    "\n",
    "print()\n",
    "\n",
    "#Problem 2\n",
    "print(len(names))\n",
    "\n",
    "print()\n",
    "\n",
    "#Problem 3\n",
    "names.append(\"Sutton\")\n",
    "\n",
    "#Problem 4\n",
    "names.pop(2)\n",
    "\n",
    "#Problem 5\n",
    "for name in names:\n",
    "    print(name)"
   ]
  },
  {
   "cell_type": "code",
   "execution_count": 9,
   "id": "8f1406bd",
   "metadata": {},
   "outputs": [
    {
     "name": "stdout",
     "output_type": "stream",
     "text": [
      "C\n",
      "\n",
      "14\n",
      "\n",
      "T  h  e     C  l  o  n  e     W  a  r  s  "
     ]
    }
   ],
   "source": [
    "#Problem 6\n",
    "show = \"The Clone Wars\"\n",
    "print(show[4])\n",
    "\n",
    "print()\n",
    "\n",
    "#Problem 7\n",
    "print(len(show))\n",
    "\n",
    "print()\n",
    "\n",
    "#Problem 8\n",
    "for char in show:\n",
    "    print(char,end=\"  \")"
   ]
  }
 ],
 "metadata": {
  "kernelspec": {
   "display_name": "Python 3",
   "language": "python",
   "name": "python3"
  },
  "language_info": {
   "codemirror_mode": {
    "name": "ipython",
    "version": 3
   },
   "file_extension": ".py",
   "mimetype": "text/x-python",
   "name": "python",
   "nbconvert_exporter": "python",
   "pygments_lexer": "ipython3",
   "version": "3.8.8"
  }
 },
 "nbformat": 4,
 "nbformat_minor": 5
}
