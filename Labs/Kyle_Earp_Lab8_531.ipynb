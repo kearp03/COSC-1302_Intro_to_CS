{
 "cells": [
  {
   "cell_type": "code",
   "execution_count": null,
   "id": "69a5cf35",
   "metadata": {},
   "outputs": [],
   "source": [
    "#Problem 1\n",
    "def multiply(a, b):\n",
    "    return a * b\n",
    "\n",
    "# ******* MAIN *******#\n",
    "print(\"Enter two numbers: \")\n",
    "num1 = int(input())\n",
    "num2 = int(input())\n",
    "print(str(num1) + \" * \" + str(num2) + \" = \" + str(multiply(num1, num2)))"
   ]
  },
  {
   "cell_type": "code",
   "execution_count": null,
   "id": "e577e81b",
   "metadata": {},
   "outputs": [],
   "source": [
    "#Problem 2\n",
    "def compareFruit(fruit):\n",
    "    if(fruit == \"cherry\"):\n",
    "        print(\"very cool\")\n",
    "    else:\n",
    "        for i in range(100):\n",
    "            print(\"not cool\")\n",
    "            \n",
    "# ******* MAIN *******#\n",
    "fruit = input(\"What is your favorite fruit? \").lower()\n",
    "compareFruit(fruit)"
   ]
  },
  {
   "cell_type": "code",
   "execution_count": null,
   "id": "6eddf292",
   "metadata": {},
   "outputs": [],
   "source": [
    "#Problem 3\n",
    "def login(username, password):\n",
    "    if(username == \"john\" and password == \"blueberry\"):\n",
    "        return True\n",
    "    elif(username == \"lisa\" and password == \"orange\"):\n",
    "        return True\n",
    "    return False\n",
    "\n",
    "# ******* MAIN *******#\n",
    "user = input(\"Username: \")\n",
    "password = input(\"Password: \")\n",
    "if(login(user, password)):\n",
    "    print(\"Welcome, \" + user)\n",
    "else:\n",
    "    print(\"Who are you? You are not welcome here\")"
   ]
  },
  {
   "cell_type": "code",
   "execution_count": null,
   "id": "07847896",
   "metadata": {},
   "outputs": [],
   "source": [
    "#Problem 4\n",
    "def multiply(a, b):\n",
    "    return a * b\n",
    "\n",
    "def compareFruit(fruit):\n",
    "    if(fruit == \"cherry\"):\n",
    "        print(\"very cool\")\n",
    "    else:\n",
    "        for i in range(100):\n",
    "            print(\"not cool\")\n",
    "\n",
    "def login(username, password):\n",
    "    if(username == \"john\" and password == \"blueberry\"):\n",
    "        return True\n",
    "    elif(username == \"lisa\" and password == \"orange\"):\n",
    "        return True\n",
    "    return False\n",
    "\n",
    "# ******* MAIN *******#\n",
    "username = \"\"\n",
    "password = \"\"\n",
    "\n",
    "while(not(login(username, password))):\n",
    "    username = input(\"Username: \")\n",
    "    password = input(\"Password: \")\n",
    "    \n",
    "print(\"Enter two numbers:\")\n",
    "num1 = int(input())\n",
    "num2 = int(input())\n",
    "print(multiply(num1, num2))\n",
    "\n",
    "fruit = input(\"What is your favorite fruit? \").lower()\n",
    "compareFruit(fruit)"
   ]
  }
 ],
 "metadata": {
  "kernelspec": {
   "display_name": "Python 3",
   "language": "python",
   "name": "python3"
  },
  "language_info": {
   "codemirror_mode": {
    "name": "ipython",
    "version": 3
   },
   "file_extension": ".py",
   "mimetype": "text/x-python",
   "name": "python",
   "nbconvert_exporter": "python",
   "pygments_lexer": "ipython3",
   "version": "3.8.8"
  }
 },
 "nbformat": 4,
 "nbformat_minor": 5
}
