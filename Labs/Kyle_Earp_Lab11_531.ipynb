{
 "cells": [
  {
   "cell_type": "code",
   "execution_count": null,
   "id": "163d5840",
   "metadata": {},
   "outputs": [],
   "source": [
    "#Problem 1\n",
    "def bubbleSort(a):\n",
    "    l = a.copy()\n",
    "    for i in range(len(l) - 1):\n",
    "        for j in range(len(l) - 1):\n",
    "            if (l[j] > l[j+1]):\n",
    "                l[j],l[j+1] = l[j+1],l[j]\n",
    "                print(l)\n",
    "    \n",
    "    return l\n",
    "\n",
    "# ******* MAIN ******* #\n",
    "list = [8, 7, 6, 5, 4, 3, 2, 1, 10, 7]\n",
    "sortedList = bubbleSort(list)\n",
    "print()\n",
    "print(\"Sorted list: \" + str(sortedList))"
   ]
  },
  {
   "cell_type": "code",
   "execution_count": null,
   "id": "a4fee77a",
   "metadata": {},
   "outputs": [],
   "source": [
    "#Problem 2\n",
    "nums = [2, 6, 12, 25, 21]\n",
    "\n",
    "print(\"Maximum number: \" + str(max(nums)))\n",
    "print(\"Minimum number: \" + str(min(nums)))"
   ]
  },
  {
   "cell_type": "code",
   "execution_count": null,
   "id": "f3917747",
   "metadata": {},
   "outputs": [],
   "source": [
    "#Problem 3\n",
    "nums = [2, 6, 12, 25, 21]\n",
    "maxNum = nums[0]\n",
    "\n",
    "for num in nums:\n",
    "    if(num > maxNum):\n",
    "        maxNum = num\n",
    "        \n",
    "print(\"Largest number: \" + str(maxNum))"
   ]
  },
  {
   "cell_type": "code",
   "execution_count": null,
   "id": "3f2948b7",
   "metadata": {},
   "outputs": [],
   "source": [
    "#Problem 4\n",
    "nums = [2, 6, 12, 25, 21, 32]\n",
    "\n",
    "maxNum = min(nums)\n",
    "max2 = min(nums)\n",
    "\n",
    "for num in nums:\n",
    "    if(num > maxNum):\n",
    "        maxNum = num\n",
    "\n",
    "for num in nums:\n",
    "    if(max2 < num < maxNum):\n",
    "        max2 = num\n",
    "        \n",
    "print(\"Largest number: \" + str(maxNum))\n",
    "print(\"2nd Largest number: \" + str(max2))"
   ]
  }
 ],
 "metadata": {
  "kernelspec": {
   "display_name": "Python 3",
   "language": "python",
   "name": "python3"
  },
  "language_info": {
   "codemirror_mode": {
    "name": "ipython",
    "version": 3
   },
   "file_extension": ".py",
   "mimetype": "text/x-python",
   "name": "python",
   "nbconvert_exporter": "python",
   "pygments_lexer": "ipython3",
   "version": "3.8.8"
  }
 },
 "nbformat": 4,
 "nbformat_minor": 5
}
