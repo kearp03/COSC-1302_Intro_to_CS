{
 "cells": [
  {
   "cell_type": "code",
   "execution_count": null,
   "id": "11f14e63",
   "metadata": {},
   "outputs": [],
   "source": [
    "#Problem 1\n",
    "for i in range(100):\n",
    "    print(\"Kyle Earp\")"
   ]
  },
  {
   "cell_type": "code",
   "execution_count": null,
   "id": "43349a15",
   "metadata": {},
   "outputs": [],
   "source": [
    "#Problem 2\n",
    "name = input(\"Enter your name: \")\n",
    "n = int(input(\"Enter a number: \"))\n",
    "for i in range(n):\n",
    "    print(name)"
   ]
  },
  {
   "cell_type": "code",
   "execution_count": null,
   "id": "f9b28695",
   "metadata": {},
   "outputs": [],
   "source": [
    "#Problem 3\n",
    "color = input(\"Enter your favorite color: \")\n",
    "while(color.lower() != \"blue\"):\n",
    "    color = input(\"Wrong. Enter your real favorite color: \")"
   ]
  },
  {
   "cell_type": "code",
   "execution_count": null,
   "id": "b6b417d0",
   "metadata": {},
   "outputs": [],
   "source": [
    "#Problem 4\n",
    "opperation = input(\"What operation (add, sub, mul, or div) would you like to perform? Type \\\"stop\\\" to stop: \").lower()\n",
    "while(opperation != \"stop\"):\n",
    "    a = float(input(\"Enter A: \"))\n",
    "    b = float(input(\"Enter B: \"))\n",
    "    if(opperation == \"add\"):\n",
    "        print(str(a) + \" + \" + str(b) + \" = \" + str(a + b))\n",
    "\n",
    "    elif(opperation == \"sub\"):\n",
    "        print(str(a) + \" - \" + str(b) + \" = \" + str(a - b))\n",
    "\n",
    "    elif(opperation == \"mul\"):\n",
    "        print(str(a) + \" * \" + str(b) + \" = \" + str(a * b))\n",
    "\n",
    "    elif(opperation == \"div\"):\n",
    "        print(str(a) + \" / \" + str(b) + \" = \" + str(a / b))\n",
    "    \n",
    "    print()\n",
    "    opperation = input(\"What operation (add, sub, mul, or div) would you like to perform? Type \\\"stop\\\" to stop: \").lower()"
   ]
  },
  {
   "cell_type": "code",
   "execution_count": null,
   "id": "91bee2b0",
   "metadata": {},
   "outputs": [],
   "source": [
    "#Problem 5\n",
    "x = int(input(\"Enter a number: \"))\n",
    "y = int(input(\"Enter a number: \"))\n",
    "z = 0\n",
    "\n",
    "for i in range(y):\n",
    "    z += x\n",
    "\n",
    "print(str(x) + \" * \" + str(y) + \" = \" + str(z))"
   ]
  },
  {
   "cell_type": "code",
   "execution_count": null,
   "id": "dee85047",
   "metadata": {},
   "outputs": [],
   "source": [
    "#Problem 5 Alternate Solution\n",
    "x = int(input(\"Enter a number: \"))\n",
    "y = int(input(\"Enter a number: \"))\n",
    "\n",
    "for i in range(1,y):\n",
    "    x += (x/i)\n",
    "    \n",
    "print(x)"
   ]
  }
 ],
 "metadata": {
  "kernelspec": {
   "display_name": "Python 3",
   "language": "python",
   "name": "python3"
  },
  "language_info": {
   "codemirror_mode": {
    "name": "ipython",
    "version": 3
   },
   "file_extension": ".py",
   "mimetype": "text/x-python",
   "name": "python",
   "nbconvert_exporter": "python",
   "pygments_lexer": "ipython3",
   "version": "3.8.8"
  }
 },
 "nbformat": 4,
 "nbformat_minor": 5
}
