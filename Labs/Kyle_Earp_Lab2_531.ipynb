{
 "cells": [
  {
   "cell_type": "code",
   "execution_count": 1,
   "id": "69172434",
   "metadata": {
    "scrolled": true
   },
   "outputs": [
    {
     "name": "stdout",
     "output_type": "stream",
     "text": [
      "If music be the food of love, play on.\n"
     ]
    }
   ],
   "source": [
    "#Problem 1\n",
    "print(\"If music be the food of love, play on.\")\n",
    "#changed pint to print and added quotation marks around If music be the food of love, play on."
   ]
  },
  {
   "cell_type": "code",
   "execution_count": 2,
   "id": "13a19cd1",
   "metadata": {},
   "outputs": [
    {
     "name": "stdout",
     "output_type": "stream",
     "text": [
      "24\n"
     ]
    }
   ],
   "source": [
    "#Problem 2\n",
    "x = 4\n",
    "y = 6\n",
    "print(x * y)\n",
    "#removed an equals sign from x == 4\n",
    "#switched the 6 and y"
   ]
  },
  {
   "cell_type": "code",
   "execution_count": 3,
   "id": "d6745a96",
   "metadata": {},
   "outputs": [
    {
     "name": "stdout",
     "output_type": "stream",
     "text": [
      "7\n"
     ]
    }
   ],
   "source": [
    "#Problem 3\n",
    "num = 7\n",
    "print(num)"
   ]
  },
  {
   "cell_type": "code",
   "execution_count": 4,
   "id": "7efedde0",
   "metadata": {},
   "outputs": [
    {
     "name": "stdout",
     "output_type": "stream",
     "text": [
      "Blueberry\n"
     ]
    }
   ],
   "source": [
    "#Problem 4\n",
    "word = \"Blueberry\"\n",
    "print(word)"
   ]
  },
  {
   "cell_type": "code",
   "execution_count": 1,
   "id": "bba584b9",
   "metadata": {},
   "outputs": [
    {
     "name": "stdout",
     "output_type": "stream",
     "text": [
      "What is your name? Kyle Earp\n",
      "Hello Kyle Earp!\n"
     ]
    }
   ],
   "source": [
    "#Problem 5\n",
    "name = input(\"What is your name? \")\n",
    "print(\"Hello \" + name + \"!\")"
   ]
  },
  {
   "cell_type": "code",
   "execution_count": 6,
   "id": "15718f82",
   "metadata": {},
   "outputs": [
    {
     "name": "stdout",
     "output_type": "stream",
     "text": [
      "What is your favorite song? Mine\n",
      "What is your favorite color? blue\n",
      "What is your favorite food? chicken\n",
      "Your favorite song is Mine.\n",
      "Your favorite color is blue.\n",
      "Your favorite food is chicken.\n"
     ]
    }
   ],
   "source": [
    "#Problem 6\n",
    "favSong = input(\"What is your favorite song? \")\n",
    "favColor = input(\"What is your favorite color? \")\n",
    "favFood = input(\"What is your favorite food? \")\n",
    "print(\"Your favorite song is \" + favSong +\".\\nYour favorite color is \" + favColor + \".\\nYour favorite food is \" + favFood + \".\")"
   ]
  },
  {
   "cell_type": "code",
   "execution_count": 7,
   "id": "b03ba081",
   "metadata": {},
   "outputs": [
    {
     "name": "stdout",
     "output_type": "stream",
     "text": [
      "Type in your number: 9\n",
      "Here's your number divided by 2: 4.5\n"
     ]
    }
   ],
   "source": [
    "#Problem 7\n",
    "n = int(input(\"Type in your number: \"))\n",
    "\n",
    "n /= 2\n",
    "\n",
    "print(\"Here's your number divided by 2:\",n)"
   ]
  },
  {
   "cell_type": "code",
   "execution_count": 8,
   "id": "64af3bfc",
   "metadata": {},
   "outputs": [
    {
     "name": "stdout",
     "output_type": "stream",
     "text": [
      "78.5\n"
     ]
    }
   ],
   "source": [
    "#Problem 8\n",
    "pi = 3.14\n",
    "r = 5\n",
    "print(r * r * pi)"
   ]
  },
  {
   "cell_type": "code",
   "execution_count": null,
   "id": "8572a62f",
   "metadata": {},
   "outputs": [],
   "source": []
  }
 ],
 "metadata": {
  "kernelspec": {
   "display_name": "Python 3",
   "language": "python",
   "name": "python3"
  },
  "language_info": {
   "codemirror_mode": {
    "name": "ipython",
    "version": 3
   },
   "file_extension": ".py",
   "mimetype": "text/x-python",
   "name": "python",
   "nbconvert_exporter": "python",
   "pygments_lexer": "ipython3",
   "version": "3.8.8"
  }
 },
 "nbformat": 4,
 "nbformat_minor": 5
}
